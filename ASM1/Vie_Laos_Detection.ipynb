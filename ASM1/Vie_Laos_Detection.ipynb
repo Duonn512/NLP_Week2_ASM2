{
 "cells": [
  {
   "cell_type": "code",
   "execution_count": 1,
   "metadata": {},
   "outputs": [],
   "source": [
    "import pandas as pd\n",
    "\n",
    "def load_texts(file_name, label):\n",
    "    with open(file_name, 'r', encoding='utf-8') as file:\n",
    "        texts = file.readlines()\n",
    "    data = {'text': texts, 'label': [label] * len(texts)}\n",
    "    return pd.DataFrame(data)\n",
    "\n",
    "# Load Vietnamese and Lao texts\n",
    "df_vietnamese = load_texts('vi.txt', 'Vietnamese')\n",
    "df_lao = load_texts('laos.txt', 'Lao')\n",
    "\n",
    "# Combine into a single DataFrame\n",
    "df_combined = pd.concat([df_vietnamese, df_lao], ignore_index=True)\n",
    "\n",
    "# Save to a CSV file\n",
    "df_combined.to_csv('combined_data.csv', index=False)"
   ]
  },
  {
   "cell_type": "code",
   "execution_count": 2,
   "metadata": {},
   "outputs": [
    {
     "name": "stdout",
     "output_type": "stream",
     "text": [
      "Model training completed and saved as 'vi_laos_detection.pkl'\n"
     ]
    }
   ],
   "source": [
    "from sklearn.feature_extraction.text import TfidfVectorizer\n",
    "from sklearn.pipeline import Pipeline\n",
    "from sklearn.naive_bayes import MultinomialNB\n",
    "import joblib\n",
    "\n",
    "# Load the combined dataset\n",
    "df = pd.read_csv('combined_data.csv')\n",
    "\n",
    "# Create a pipeline with a TfidfVectorizer and a Naive Bayes classifier\n",
    "pipeline = Pipeline([\n",
    "    ('tfidf', TfidfVectorizer()),\n",
    "    ('clf', MultinomialNB())\n",
    "])\n",
    "\n",
    "# Train the model\n",
    "pipeline.fit(df['text'], df['label'])\n",
    "\n",
    "# Save the model\n",
    "joblib.dump(pipeline, 'vi_laos_detection.pkl')\n",
    "\n",
    "print(\"Model training completed and saved as 'vi_laos_detection.pkl'\")"
   ]
  },
  {
   "cell_type": "code",
   "execution_count": 3,
   "metadata": {},
   "outputs": [],
   "source": [
    "import sys\n",
    "\n",
    "class LanguageIdentifier:\n",
    "    def __init__(self):\n",
    "        self.text = \"\"\n",
    "        self.pipeline = None\n",
    "\n",
    "    def load_text(self, file_name):\n",
    "        try:\n",
    "            with open(file_name, 'r', encoding='utf-8') as file:\n",
    "                self.text = file.read()\n",
    "            print(f\"===== Loaded text data: {file_name} =====\")\n",
    "            print(self.text)\n",
    "        except IOError:\n",
    "            print(f\"Problem found when reading: {file_name}\")\n",
    "\n",
    "    def load_model(self, file_name):\n",
    "        try:\n",
    "            self.pipeline = joblib.load(file_name)\n",
    "            print(f\"===== Loaded model: {file_name} =====\")\n",
    "        except IOError:\n",
    "            print(f\"Problem found when reading: {file_name}\")\n",
    "\n",
    "    def make_instance(self):\n",
    "        if self.text:\n",
    "            self.instance = [self.text]\n",
    "            print(\"===== Instance created =====\")\n",
    "            print(self.instance)\n",
    "        else:\n",
    "            print(\"No text data loaded.\")\n",
    "\n",
    "    def classify(self):\n",
    "        if self.pipeline and self.instance:\n",
    "            prediction = self.pipeline.predict(self.instance)\n",
    "            print(\"===== Classified instance =====\")\n",
    "            print(f\"Class predicted: {prediction[0]}\")\n",
    "        else:\n",
    "            print(\"Model or instance not properly loaded or created.\")"
   ]
  },
  {
   "cell_type": "code",
   "execution_count": 4,
   "metadata": {},
   "outputs": [
    {
     "name": "stdout",
     "output_type": "stream",
     "text": [
      "===== Loaded text data: test_laos_text.txt =====\n",
      "niaemn paojk pheu thodsob phondaihab\n",
      "===== Loaded model: vi_laos_detection.pkl =====\n",
      "===== Instance created =====\n",
      "['niaemn paojk pheu thodsob phondaihab']\n",
      "===== Classified instance =====\n",
      "Class predicted: Lao\n"
     ]
    }
   ],
   "source": [
    "classifier = LanguageIdentifier()\n",
    "\n",
    "classifier.load_text(\"test_laos_text.txt\")\n",
    "classifier.load_model(\"vi_laos_detection.pkl\")\n",
    "classifier.make_instance()\n",
    "classifier.classify()"
   ]
  },
  {
   "cell_type": "code",
   "execution_count": 5,
   "metadata": {},
   "outputs": [
    {
     "name": "stdout",
     "output_type": "stream",
     "text": [
      "===== Loaded text data: test_vi_text.txt =====\n",
      "Đây là câu để thử nghiệm kết quả \n",
      "===== Loaded model: vi_laos_detection.pkl =====\n",
      "===== Instance created =====\n",
      "['Đây là câu để thử nghiệm kết quả ']\n",
      "===== Classified instance =====\n",
      "Class predicted: Vietnamese\n"
     ]
    }
   ],
   "source": [
    "classifier = LanguageIdentifier()\n",
    "\n",
    "classifier.load_text(\"test_vi_text.txt\")\n",
    "classifier.load_model(\"vi_laos_detection.pkl\")\n",
    "classifier.make_instance()\n",
    "classifier.classify()"
   ]
  },
  {
   "cell_type": "code",
   "execution_count": null,
   "metadata": {},
   "outputs": [],
   "source": []
  }
 ],
 "metadata": {
  "kernelspec": {
   "display_name": "DATASETSENV",
   "language": "python",
   "name": "python3"
  },
  "language_info": {
   "codemirror_mode": {
    "name": "ipython",
    "version": 3
   },
   "file_extension": ".py",
   "mimetype": "text/x-python",
   "name": "python",
   "nbconvert_exporter": "python",
   "pygments_lexer": "ipython3",
   "version": "3.8.19"
  }
 },
 "nbformat": 4,
 "nbformat_minor": 2
}
